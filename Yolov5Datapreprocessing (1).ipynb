{
  "cells": [
    {
      "cell_type": "code",
      "execution_count": null,
      "id": "c365a1b1",
      "metadata": {
        "id": "c365a1b1"
      },
      "outputs": [],
      "source": [
        "import os\n",
        "import pandas as pd\n",
        "from glob import glob\n",
        "from functools import reduce\n",
        "from xml.etree import ElementTree as et"
      ]
    },
    {
      "cell_type": "code",
      "execution_count": null,
      "id": "44327c8b",
      "metadata": {
        "id": "44327c8b"
      },
      "outputs": [],
      "source": [
        "# loading all xml files and storing it as List\n",
        "xml_list = glob('./data_images/*.xml')\n",
        "\n",
        "# Replacing \\\\ wiith / in Xml files\n",
        "xml_list = [xml.replace('\\\\','/') for xml in xml_list]"
      ]
    },
    {
      "cell_type": "code",
      "execution_count": null,
      "id": "91a1d87a",
      "metadata": {
        "id": "91a1d87a"
      },
      "outputs": [],
      "source": [
        "xml_list"
      ]
    },
    {
      "cell_type": "code",
      "execution_count": null,
      "id": "c7899b3e",
      "metadata": {
        "id": "c7899b3e"
      },
      "outputs": [],
      "source": [
        "def extract_data(filename):\n",
        "    tree = et.parse(filename)\n",
        "    root = tree.getroot()\n",
        "\n",
        "    #extracting FileName\n",
        "    image_name = root.find('filename').text\n",
        "\n",
        "    #Extracting Width and Height of the image\n",
        "    width = root.find('size').find('width').text\n",
        "    height = root.find('size').find('height').text\n",
        "    boxes=[]\n",
        "\n",
        "    for objs in root.findall('object'):\n",
        "        name = objs.find('name').text\n",
        "        bndbox = objs.find('bndbox')\n",
        "        xmin = bndbox.find('xmin').text\n",
        "        xmax = bndbox.find('xmax').text\n",
        "        ymin = bndbox.find('ymin').text\n",
        "        ymax = bndbox.find('ymax').text\n",
        "        boxes.append([image_name,width,height,name,xmin,xmax,ymin,ymax])\n",
        "\n",
        "    return boxes"
      ]
    },
    {
      "cell_type": "code",
      "execution_count": null,
      "id": "d5a725a4",
      "metadata": {
        "id": "d5a725a4"
      },
      "outputs": [],
      "source": [
        "bounding_boxes = list(map(extract_data,xml_list))\n"
      ]
    },
    {
      "cell_type": "code",
      "execution_count": null,
      "id": "c4a4594f",
      "metadata": {
        "id": "c4a4594f"
      },
      "outputs": [],
      "source": [
        "bounding_boxes"
      ]
    },
    {
      "cell_type": "code",
      "execution_count": null,
      "id": "4856dc4b",
      "metadata": {
        "id": "4856dc4b"
      },
      "outputs": [],
      "source": [
        "data = reduce(lambda x,y:x+y,bounding_boxes)\n",
        "data"
      ]
    },
    {
      "cell_type": "code",
      "execution_count": null,
      "id": "7226ba9f",
      "metadata": {
        "id": "7226ba9f"
      },
      "outputs": [],
      "source": [
        "df = pd.DataFrame(data,columns=['filename','width','height','name','xmin','xmax','ymin','ymax'])"
      ]
    },
    {
      "cell_type": "code",
      "execution_count": null,
      "id": "beb72a7a",
      "metadata": {
        "id": "beb72a7a"
      },
      "outputs": [],
      "source": [
        "df.head()"
      ]
    },
    {
      "cell_type": "code",
      "execution_count": null,
      "id": "993c141a",
      "metadata": {
        "id": "993c141a"
      },
      "outputs": [],
      "source": [
        "df.shape"
      ]
    },
    {
      "cell_type": "code",
      "execution_count": null,
      "id": "605db4c4",
      "metadata": {
        "id": "605db4c4"
      },
      "outputs": [],
      "source": [
        "df['name'].value_counts()"
      ]
    },
    {
      "cell_type": "code",
      "execution_count": null,
      "id": "48c06014",
      "metadata": {
        "id": "48c06014"
      },
      "outputs": [],
      "source": [
        "df.info()"
      ]
    },
    {
      "cell_type": "code",
      "execution_count": null,
      "id": "45cace88",
      "metadata": {
        "id": "45cace88"
      },
      "outputs": [],
      "source": [
        "cols = ['width','height','xmin','xmax','ymin','ymax']\n",
        "df[cols] = df[cols].astype(int)\n",
        "df.info()"
      ]
    },
    {
      "cell_type": "code",
      "execution_count": null,
      "id": "8461911d",
      "metadata": {
        "id": "8461911d"
      },
      "outputs": [],
      "source": [
        "df['center_x']=((df['xmin']+df['xmax'])/2)/df['width']\n",
        "df['center_y']=((df['ymin']+df['ymax'])/2)/df['height']\n",
        "df['w']=(df['xmax']-df['xmin'])/df['width']\n",
        "df['h']=(df['ymax']-df['ymin'])/df['height']\n",
        "df.head()"
      ]
    },
    {
      "cell_type": "code",
      "execution_count": null,
      "id": "0a8a50ce",
      "metadata": {
        "id": "0a8a50ce",
        "outputId": "92324bb8-3f5f-4cb5-baad-4e267d0960a7"
      },
      "outputs": [
        {
          "data": {
            "text/plain": [
              "5012"
            ]
          },
          "execution_count": 18,
          "metadata": {},
          "output_type": "execute_result"
        }
      ],
      "source": [
        "images = df['filename'].unique()\n",
        "len(images)"
      ]
    },
    {
      "cell_type": "code",
      "execution_count": null,
      "id": "7cba4c2f",
      "metadata": {
        "id": "7cba4c2f"
      },
      "outputs": [],
      "source": [
        "# 80% train and 20% test\n",
        "img_df = pd.DataFrame(images,columns=['filename'])\n",
        "img_train = tuple(img_df.sample(frac=0.8)['filename']) #shuffling and picking 80% of images"
      ]
    },
    {
      "cell_type": "code",
      "execution_count": null,
      "id": "4ae9882b",
      "metadata": {
        "id": "4ae9882b"
      },
      "outputs": [],
      "source": [
        "img_train"
      ]
    },
    {
      "cell_type": "code",
      "execution_count": null,
      "id": "6f1a363f",
      "metadata": {
        "id": "6f1a363f"
      },
      "outputs": [],
      "source": [
        "img_test = tuple(img_df.query(f'filename not in {img_train}')['filename'])\n",
        "img_test"
      ]
    },
    {
      "cell_type": "code",
      "execution_count": null,
      "id": "07587490",
      "metadata": {
        "id": "07587490"
      },
      "outputs": [],
      "source": [
        "len(img_train),len(img_test)"
      ]
    },
    {
      "cell_type": "code",
      "execution_count": null,
      "id": "d2ecf24c",
      "metadata": {
        "id": "d2ecf24c"
      },
      "outputs": [],
      "source": [
        "train_df = df.query(f'filename in {img_train}')\n",
        "test_df = df.query(f'filename in {img_test}')\n",
        "test_df.head()"
      ]
    },
    {
      "cell_type": "code",
      "execution_count": null,
      "id": "f3f2b58d",
      "metadata": {
        "id": "f3f2b58d"
      },
      "outputs": [],
      "source": [
        "train_df.head()"
      ]
    },
    {
      "cell_type": "code",
      "execution_count": null,
      "id": "dee173b2",
      "metadata": {
        "id": "dee173b2"
      },
      "outputs": [],
      "source": [
        "#label Encoding\n",
        "def label_encoding(x):\n",
        "    labels = {'person':0,'car':1,'chair':2,'bottle':3,\n",
        "              'pottedplant':4,'bird':5,'dog':6,\n",
        "              'sofa':7,'bicycle':8,'horse':9,'boat':10,\n",
        "              'motorbike':11,'cat':12,'tvmonitor':13,\n",
        "              'cow':14,'sheep':15,'aeroplane':16,\n",
        "              'train':17,'diningtable':18,'bus':19\n",
        "             }\n",
        "    return labels[x]"
      ]
    },
    {
      "cell_type": "code",
      "execution_count": null,
      "id": "583cece3",
      "metadata": {
        "scrolled": true,
        "id": "583cece3"
      },
      "outputs": [],
      "source": [
        "train_df.loc[:, 'id'] = train_df['name'].apply(label_encoding)\n",
        "test_df.loc[:, 'id'] = test_df['name'].apply(label_encoding)\n",
        "train_df['id']=train_df['id'].astype(int)\n",
        "test_df['id']=test_df['id'].astype(int)"
      ]
    },
    {
      "cell_type": "code",
      "execution_count": null,
      "id": "21a256d1",
      "metadata": {
        "id": "21a256d1"
      },
      "outputs": [],
      "source": [
        "import warnings\n",
        "warnings.filterwarnings('ignore')"
      ]
    },
    {
      "cell_type": "markdown",
      "id": "960e01a2",
      "metadata": {
        "id": "960e01a2"
      },
      "source": [
        "# Save Images and Labels in Text"
      ]
    },
    {
      "cell_type": "code",
      "execution_count": null,
      "id": "d7179902",
      "metadata": {
        "id": "d7179902"
      },
      "outputs": [],
      "source": [
        "import os\n",
        "from shutil import move"
      ]
    },
    {
      "cell_type": "code",
      "execution_count": null,
      "id": "ff368268",
      "metadata": {
        "id": "ff368268"
      },
      "outputs": [],
      "source": [
        "train_folder ='data_images/train'\n",
        "test_folder ='data_images/test'\n",
        "\n",
        "os.mkdir(train_folder)\n",
        "os.mkdir(test_folder)"
      ]
    },
    {
      "cell_type": "code",
      "execution_count": null,
      "id": "e312101e",
      "metadata": {
        "id": "e312101e"
      },
      "outputs": [],
      "source": [
        "cols = ['filename','id','center_x','center_y','w','h']\n",
        "groupby_obj_train = train_df[cols].groupby('filename')\n",
        "groupby_obj_test = test_df[cols].groupby('filename')"
      ]
    },
    {
      "cell_type": "code",
      "execution_count": null,
      "id": "c4d47a70",
      "metadata": {
        "id": "c4d47a70"
      },
      "outputs": [],
      "source": [
        "def save_data(filename,folder_path,group_obj):\n",
        "    #moving image\n",
        "    src = os.path.join('data_images',filename)\n",
        "    dst = os.path.join(folder_path,filename)\n",
        "    move(src,dst)\n",
        "\n",
        "    #saving labels\n",
        "    text_filename = os.path.join(folder_path,\n",
        "                                 os.path.splitext(filename)[0]+'.txt')\n",
        "    group_obj.get_group(filename).set_index('filename').to_csv(text_filename,sep=' ',index=False,header=False)"
      ]
    },
    {
      "cell_type": "code",
      "execution_count": null,
      "id": "4a385a6b",
      "metadata": {
        "id": "4a385a6b"
      },
      "outputs": [],
      "source": [
        "filename_series=pd.Series(groupby_obj_train.groups.keys())"
      ]
    },
    {
      "cell_type": "code",
      "execution_count": null,
      "id": "02df3828",
      "metadata": {
        "id": "02df3828"
      },
      "outputs": [],
      "source": [
        "filename_series.apply(save_data,args=(train_folder,groupby_obj_train))"
      ]
    },
    {
      "cell_type": "code",
      "execution_count": null,
      "id": "fdace647",
      "metadata": {
        "id": "fdace647"
      },
      "outputs": [],
      "source": [
        "filename_series_test=pd.Series(groupby_obj_test.groups.keys())"
      ]
    },
    {
      "cell_type": "code",
      "execution_count": null,
      "id": "1cb2f61c",
      "metadata": {
        "id": "1cb2f61c"
      },
      "outputs": [],
      "source": [
        "filename_series_test.apply(save_data,args=(test_folder,groupby_obj_test))"
      ]
    },
    {
      "cell_type": "code",
      "execution_count": null,
      "id": "0b9295ba",
      "metadata": {
        "id": "0b9295ba"
      },
      "outputs": [],
      "source": []
    }
  ],
  "metadata": {
    "kernelspec": {
      "display_name": "Python 3 (ipykernel)",
      "language": "python",
      "name": "python3"
    },
    "language_info": {
      "codemirror_mode": {
        "name": "ipython",
        "version": 3
      },
      "file_extension": ".py",
      "mimetype": "text/x-python",
      "name": "python",
      "nbconvert_exporter": "python",
      "pygments_lexer": "ipython3",
      "version": "3.10.9"
    },
    "colab": {
      "provenance": []
    }
  },
  "nbformat": 4,
  "nbformat_minor": 5
}